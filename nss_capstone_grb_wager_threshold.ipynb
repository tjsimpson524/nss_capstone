{
 "cells": [
  {
   "cell_type": "code",
   "execution_count": 2,
   "id": "69eb9bcd",
   "metadata": {},
   "outputs": [],
   "source": [
    "import pandas as pd\n",
    "import numpy as np\n",
    "from sklearn.model_selection import train_test_split\n",
    "from sklearn.ensemble import GradientBoostingClassifier\n",
    "from sklearn.metrics import classification_report, confusion_matrix, accuracy_score"
   ]
  },
  {
   "cell_type": "code",
   "execution_count": 4,
   "id": "abdbbf7b",
   "metadata": {},
   "outputs": [],
   "source": [
    "df_train = pd.read_csv('../nss_capstone/df_train_07_20.csv').drop(columns='Unnamed: 0').dropna(subset=['ML'])\n",
    "\n",
    "variables = ['Implied','Open Spread', 'Close Spread']  # Adjust the variables as per your dataset\n",
    "target = 'W/L_bool'\n",
    "\n",
    "X_train = df_train[variables]\n",
    "y_train = df_train[target]\n",
    "\n",
    "gbr = GradientBoostingClassifier(n_estimators=1000).fit(X_train, y_train)\n",
    "\n",
    "df_val = pd.read_csv('../nss_capstone/df_val_21_22.csv').drop(columns='Unnamed: 0').dropna(subset=['ML'])  # Adjust the path and preprocessing as per your dataset\n",
    "\n",
    "X_val = df_val[variables]\n",
    "y_val = df_val[target]\n",
    "\n",
    "predicted_probabilities = gbr.predict_proba(X_val)[:, 1]\n",
    "closing_moneyline_odds = df_val.loc[X_val.index, 'Implied'].reset_index(drop=True)\n",
    "\n",
    "percentage_differences = predicted_probabilities - closing_moneyline_odds    \n",
    "\n",
    "\n",
    "payouts = df_val.loc[X_val.index, 'Payout'].reset_index(drop=True)\n",
    "results = y_val.reset_index(drop = True)\n",
    "\n",
    "threshold = 0.021\n",
    "\n",
    "\n",
    "selected_bets = percentage_differences >= threshold\n",
    "\n",
    "wager = 100  # Set the wager amount to $100\n",
    "\n",
    "bets_won = selected_bets * results * payouts\n",
    "bets_lost = selected_bets * (1-results) * -wager\n",
    "profit = bets_won.sum() + bets_lost.sum()"
   ]
  },
  {
   "cell_type": "code",
   "execution_count": null,
   "id": "f5c665c0",
   "metadata": {},
   "outputs": [],
   "source": []
  }
 ],
 "metadata": {
  "kernelspec": {
   "display_name": "Python 3 (ipykernel)",
   "language": "python",
   "name": "python3"
  },
  "language_info": {
   "codemirror_mode": {
    "name": "ipython",
    "version": 3
   },
   "file_extension": ".py",
   "mimetype": "text/x-python",
   "name": "python",
   "nbconvert_exporter": "python",
   "pygments_lexer": "ipython3",
   "version": "3.9.12"
  }
 },
 "nbformat": 4,
 "nbformat_minor": 5
}
