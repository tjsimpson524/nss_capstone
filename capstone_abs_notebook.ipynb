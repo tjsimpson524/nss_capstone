{
 "cells": [
  {
   "cell_type": "code",
   "execution_count": 2,
   "id": "69b7a1cd",
   "metadata": {},
   "outputs": [],
   "source": [
    "import pandas as pd\n",
    "import numpy as np"
   ]
  },
  {
   "cell_type": "code",
   "execution_count": 191,
   "id": "bd502937",
   "metadata": {},
   "outputs": [],
   "source": [
    "df = pd.read_csv('../nss_capstone/nba_odds_no_covid_07_22.csv').drop(columns = ['Unnamed: 0', 'Unnamed: 0.1', 'Rot']).fillna('')"
   ]
  },
  {
   "cell_type": "code",
   "execution_count": 192,
   "id": "59d6b7a9",
   "metadata": {},
   "outputs": [],
   "source": [
    "df['game_id'] = (df.index // 2) + 1\n",
    "df.insert(0, 'game_id', df.pop('game_id'))"
   ]
  },
  {
   "cell_type": "code",
   "execution_count": 193,
   "id": "0fb34920",
   "metadata": {},
   "outputs": [],
   "source": [
    "df['ML'] = pd.to_numeric(df['ML'], errors='coerce')\n",
    "\n",
    "df['Open Spread'] = pd.to_numeric(df['Open Spread'], errors='coerce')\n",
    "df['Close Spread'] = pd.to_numeric(df['Close Spread'], errors='coerce')\n",
    "\n",
    "if (df['ML'] < 0).any():\n",
    "    # Update Open Spread and Close Spread values to negative for negative ML rows\n",
    "    df.loc[df['ML'] < -1, ['Open Spread', 'Close Spread']] *= -1"
   ]
  },
  {
   "cell_type": "code",
   "execution_count": 194,
   "id": "8c99a202",
   "metadata": {},
   "outputs": [
    {
     "data": {
      "text/html": [
       "<div>\n",
       "<style scoped>\n",
       "    .dataframe tbody tr th:only-of-type {\n",
       "        vertical-align: middle;\n",
       "    }\n",
       "\n",
       "    .dataframe tbody tr th {\n",
       "        vertical-align: top;\n",
       "    }\n",
       "\n",
       "    .dataframe thead th {\n",
       "        text-align: right;\n",
       "    }\n",
       "</style>\n",
       "<table border=\"1\" class=\"dataframe\">\n",
       "  <thead>\n",
       "    <tr style=\"text-align: right;\">\n",
       "      <th></th>\n",
       "      <th>game_id</th>\n",
       "      <th>Team</th>\n",
       "      <th>ML</th>\n",
       "      <th>Open Spread</th>\n",
       "      <th>Close Spread</th>\n",
       "    </tr>\n",
       "  </thead>\n",
       "  <tbody>\n",
       "    <tr>\n",
       "      <th>0</th>\n",
       "      <td>1</td>\n",
       "      <td>Boston</td>\n",
       "      <td>-175.0</td>\n",
       "      <td>-2.5</td>\n",
       "      <td>-4.0</td>\n",
       "    </tr>\n",
       "    <tr>\n",
       "      <th>1</th>\n",
       "      <td>1</td>\n",
       "      <td>Golden State</td>\n",
       "      <td>155.0</td>\n",
       "      <td>NaN</td>\n",
       "      <td>NaN</td>\n",
       "    </tr>\n",
       "    <tr>\n",
       "      <th>2</th>\n",
       "      <td>2</td>\n",
       "      <td>Golden State</td>\n",
       "      <td>-165.0</td>\n",
       "      <td>-3.5</td>\n",
       "      <td>-4.0</td>\n",
       "    </tr>\n",
       "    <tr>\n",
       "      <th>3</th>\n",
       "      <td>2</td>\n",
       "      <td>Boston</td>\n",
       "      <td>145.0</td>\n",
       "      <td>NaN</td>\n",
       "      <td>NaN</td>\n",
       "    </tr>\n",
       "    <tr>\n",
       "      <th>4</th>\n",
       "      <td>3</td>\n",
       "      <td>Boston</td>\n",
       "      <td>-165.0</td>\n",
       "      <td>-2.5</td>\n",
       "      <td>-4.0</td>\n",
       "    </tr>\n",
       "    <tr>\n",
       "      <th>5</th>\n",
       "      <td>3</td>\n",
       "      <td>GoldenState</td>\n",
       "      <td>145.0</td>\n",
       "      <td>NaN</td>\n",
       "      <td>NaN</td>\n",
       "    </tr>\n",
       "  </tbody>\n",
       "</table>\n",
       "</div>"
      ],
      "text/plain": [
       "   game_id          Team     ML  Open Spread  Close Spread\n",
       "0        1        Boston -175.0         -2.5          -4.0\n",
       "1        1  Golden State  155.0          NaN           NaN\n",
       "2        2  Golden State -165.0         -3.5          -4.0\n",
       "3        2        Boston  145.0          NaN           NaN\n",
       "4        3        Boston -165.0         -2.5          -4.0\n",
       "5        3   GoldenState  145.0          NaN           NaN"
      ]
     },
     "execution_count": 194,
     "metadata": {},
     "output_type": "execute_result"
    }
   ],
   "source": [
    "df[['game_id', 'Team','ML','Open Spread', 'Close Spread']].head(6)"
   ]
  },
  {
   "cell_type": "code",
   "execution_count": 195,
   "id": "f463fe0c",
   "metadata": {},
   "outputs": [
    {
     "data": {
      "text/html": [
       "<div>\n",
       "<style scoped>\n",
       "    .dataframe tbody tr th:only-of-type {\n",
       "        vertical-align: middle;\n",
       "    }\n",
       "\n",
       "    .dataframe tbody tr th {\n",
       "        vertical-align: top;\n",
       "    }\n",
       "\n",
       "    .dataframe thead th {\n",
       "        text-align: right;\n",
       "    }\n",
       "</style>\n",
       "<table border=\"1\" class=\"dataframe\">\n",
       "  <thead>\n",
       "    <tr style=\"text-align: right;\">\n",
       "      <th></th>\n",
       "      <th>ML</th>\n",
       "      <th>Open Spread</th>\n",
       "      <th>Close Spread</th>\n",
       "    </tr>\n",
       "  </thead>\n",
       "  <tbody>\n",
       "    <tr>\n",
       "      <th>35968</th>\n",
       "      <td>190.0</td>\n",
       "      <td>NaN</td>\n",
       "      <td>NaN</td>\n",
       "    </tr>\n",
       "    <tr>\n",
       "      <th>35969</th>\n",
       "      <td>-230.0</td>\n",
       "      <td>-2.5</td>\n",
       "      <td>-5.0</td>\n",
       "    </tr>\n",
       "  </tbody>\n",
       "</table>\n",
       "</div>"
      ],
      "text/plain": [
       "          ML  Open Spread  Close Spread\n",
       "35968  190.0          NaN           NaN\n",
       "35969 -230.0         -2.5          -5.0"
      ]
     },
     "execution_count": 195,
     "metadata": {},
     "output_type": "execute_result"
    }
   ],
   "source": [
    "# x = df.loc[df['game_id'] == 17985]\n",
    "x[['ML','Open Spread', 'Close Spread']]"
   ]
  },
  {
   "cell_type": "code",
   "execution_count": 65,
   "id": "3342e948",
   "metadata": {},
   "outputs": [],
   "source": [
    "# df = df[['game_id','Date','VH','Team', 'Final','ML','Open Total', 'Close Total',\n",
    "#     'Open Spread', 'Close Spread', 'Score_Diff','W/L_bool', 'ATS', 'Push', 'W/L_fav',\n",
    "#    'W/L_dog', 'ATS_fav', 'ATS_dog',]]"
   ]
  },
  {
   "cell_type": "code",
   "execution_count": 51,
   "id": "290cbf3f",
   "metadata": {},
   "outputs": [],
   "source": [
    "# #df.loc[df['game_id'] == 17988]\n",
    "# num_games = 8\n",
    "\n",
    "# # Get a random sample of game_ids\n",
    "# random_game_ids = df['game_id'].sample(num_games).tolist()\n",
    "\n",
    "# # Filter the DataFrame based on the selected game_ids\n",
    "# r_df = df[df['game_id'].isin(random_game_ids)]\n",
    "\n",
    "# r_df"
   ]
  },
  {
   "cell_type": "code",
   "execution_count": null,
   "id": "5812811b",
   "metadata": {},
   "outputs": [],
   "source": []
  }
 ],
 "metadata": {
  "kernelspec": {
   "display_name": "Python 3 (ipykernel)",
   "language": "python",
   "name": "python3"
  },
  "language_info": {
   "codemirror_mode": {
    "name": "ipython",
    "version": 3
   },
   "file_extension": ".py",
   "mimetype": "text/x-python",
   "name": "python",
   "nbconvert_exporter": "python",
   "pygments_lexer": "ipython3",
   "version": "3.9.12"
  }
 },
 "nbformat": 4,
 "nbformat_minor": 5
}
