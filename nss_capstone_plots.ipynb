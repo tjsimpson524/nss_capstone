{
 "cells": [
  {
   "cell_type": "markdown",
   "id": "b93e1ef3",
   "metadata": {},
   "source": [
    "Interactive plot that displays efficiency -- or any lackthereof -- in the NBA moneyline market. The plot shows the relationship between the implied probabilities of closing lines and actual game outcomes for NBA seasons 07-20 -- over 16,000 games. Includes playoffs and covid season. "
   ]
  },
  {
   "cell_type": "code",
   "execution_count": 4,
   "id": "40d31199",
   "metadata": {},
   "outputs": [
    {
     "data": {
      "application/vnd.jupyter.widget-view+json": {
       "model_id": "8065c66dc55d447ca64328a86aa97b90",
       "version_major": 2,
       "version_minor": 0
      },
      "text/plain": [
       "interactive(children=(FloatSlider(value=0.74, description='Implied', max=0.99, min=0.5, step=0.01), Output()),…"
      ]
     },
     "metadata": {},
     "output_type": "display_data"
    },
    {
     "data": {
      "text/plain": [
       "<function __main__.create_histogram(Implied)>"
      ]
     },
     "execution_count": 4,
     "metadata": {},
     "output_type": "execute_result"
    }
   ],
   "source": [
    "import plotly.graph_objects as go\n",
    "from ipywidgets import interact\n",
    "\n",
    "df = pd.read_csv('../nss_capstone/df_train_07_20.csv').drop(columns='Unnamed: 0')\n",
    "\n",
    "def create_histogram(Implied):\n",
    "    filtered_df = df[df['Implied'] == Implied]\n",
    "    game_counts = filtered_df.shape[0] // 2\n",
    "    \n",
    "    win_counts = filtered_df[filtered_df['W/L_bool'] == 1].shape[0] // 2\n",
    "    loss_counts = filtered_df[filtered_df['W/L_bool'] == 0].shape[0] // 2\n",
    "    \n",
    "    win_ratio = win_counts / game_counts\n",
    "    loss_ratio = loss_counts / game_counts\n",
    "\n",
    "    labels = ['Favorite Wins', 'Underdog Wins']\n",
    "    counts = [win_counts, loss_counts]\n",
    "    \n",
    "    colors = 'lightblue'\n",
    "    \n",
    "    fig = go.Figure()\n",
    "    fig.add_trace(go.Bar(x=labels, y=counts, marker=dict(color=colors)))\n",
    "    fig.update_layout(\n",
    "        title=f'Fav/Dog Win Pct by Closing Moneyline Implied Probability % = {Implied}',\n",
    "        xaxis=dict(title='Wins'),\n",
    "        yaxis=dict(title='Games')\n",
    "    )\n",
    "    fig.add_annotation(\n",
    "        x=labels[0],\n",
    "        y=max(counts),\n",
    "        text=f'{win_ratio:.2f}',\n",
    "        showarrow=False,\n",
    "        font=dict(size=12)\n",
    "    )\n",
    "    fig.add_annotation(\n",
    "        x=labels[1],\n",
    "        y=max(counts),\n",
    "        text=f'{loss_ratio:.2f}',\n",
    "        showarrow=False,\n",
    "        font=dict(size=12)\n",
    "    )\n",
    "    fig.show()\n",
    "    \n",
    "    fig.write_html(\"efficiency_plot.html\")\n",
    "\n",
    "interact(create_histogram, Implied=(0.5, 0.99, 0.01))"
   ]
  }
 ],
 "metadata": {
  "kernelspec": {
   "display_name": "Python 3 (ipykernel)",
   "language": "python",
   "name": "python3"
  },
  "language_info": {
   "codemirror_mode": {
    "name": "ipython",
    "version": 3
   },
   "file_extension": ".py",
   "mimetype": "text/x-python",
   "name": "python",
   "nbconvert_exporter": "python",
   "pygments_lexer": "ipython3",
   "version": "3.9.12"
  }
 },
 "nbformat": 4,
 "nbformat_minor": 5
}
